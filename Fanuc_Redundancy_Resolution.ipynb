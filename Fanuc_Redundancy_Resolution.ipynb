{
  "nbformat": 4,
  "nbformat_minor": 0,
  "metadata": {
    "colab": {
      "name": "Fanuc Redundancy Resolution.ipynb",
      "provenance": [],
      "collapsed_sections": [
        "uVyaX-jU5Ifm",
        "7TmQmbRqccb5",
        "aPMlJIp65PLu",
        "hUrc8Q9XvuQK",
        "4HIIic2pvqYS",
        "kVqpp38M2CrM",
        "zXwJVWeOv5lo",
        "Ci8fVLLO-A3L"
      ]
    },
    "kernelspec": {
      "name": "python3",
      "display_name": "Python 3"
    },
    "language_info": {
      "name": "python"
    }
  },
  "cells": [
    {
      "cell_type": "markdown",
      "source": [
        "# VJM Modelling"
      ],
      "metadata": {
        "id": "uVyaX-jU5Ifm"
      }
    },
    {
      "cell_type": "code",
      "source": [
        "import numpy as np\n",
        "import sympy as sp\n",
        "import matplotlib.pyplot as plt"
      ],
      "metadata": {
        "id": "FtXC3AvZc3D0"
      },
      "execution_count": null,
      "outputs": []
    },
    {
      "cell_type": "code",
      "execution_count": null,
      "metadata": {
        "id": "6R2GoNllctXu"
      },
      "outputs": [],
      "source": [
        "def Rx(q):\n",
        "    T = np.array([[1, 0, 0, 0],\n",
        "                  [0, np.cos(q), -np.sin(q), 0],\n",
        "                  [0, np.sin(q), np.cos(q), 0],\n",
        "                  [0, 0, 0, 1]])\n",
        "    return T\n",
        "\n",
        "\n",
        "def dRx(q):\n",
        "    T = np.array([[0, 0, 0, 0],\n",
        "                  [0, -np.sin(q), -np.cos(q), 0],\n",
        "                  [0, np.cos(q), -np.sin(q), 0],\n",
        "                  [0, 0, 0, 0]])\n",
        "    return T\n",
        "\n",
        "\n",
        "def Ry(q):\n",
        "    T = np.array([[np.cos(q), 0, np.sin(q), 0],\n",
        "                  [0, 1, 0, 0],\n",
        "                  [-np.sin(q), 0, np.cos(q), 0],\n",
        "                  [0, 0, 0, 1]])\n",
        "    return T\n",
        "\n",
        "\n",
        "def dRy(q):\n",
        "    T = np.array([[-np.sin(q), 0, np.cos(q), 0],\n",
        "                  [0, 0, 0, 0],\n",
        "                  [-np.cos(q), 0, -np.sin(q), 0],\n",
        "                  [0, 0, 0, 0]])\n",
        "    return T\n",
        "\n",
        "\n",
        "def Rz(q):\n",
        "    T = np.array([[np.cos(q), -np.sin(q), 0, 0],\n",
        "                  [np.sin(q), np.cos(q), 0, 0],\n",
        "                  [0, 0, 1, 0],\n",
        "                  [0, 0, 0, 1]])\n",
        "    return T\n",
        "\n",
        "\n",
        "def dRz(q):\n",
        "    T = np.array([[-np.sin(q), -np.cos(q), 0, 0],\n",
        "                  [np.cos(q), -np.sin(q), 0, 0],\n",
        "                  [0, 0, 0, 0],\n",
        "                  [0, 0, 0, 0]])\n",
        "    return T\n",
        "\n",
        "\n",
        "def Tx(x):\n",
        "    T = np.array([[1, 0, 0, x],\n",
        "                  [0, 1, 0, 0],\n",
        "                  [0, 0, 1, 0],\n",
        "                  [0, 0, 0, 1]])\n",
        "    return T\n",
        "\n",
        "\n",
        "def dTx():\n",
        "    T = np.array([[0, 0, 0, 1],\n",
        "                  [0, 0, 0, 0],\n",
        "                  [0, 0, 0, 0],\n",
        "                  [0, 0, 0, 0]])\n",
        "    return T\n",
        "\n",
        "\n",
        "def Ty(y):\n",
        "    T = np.array([[1, 0, 0, 0],\n",
        "                  [0, 1, 0, y],\n",
        "                  [0, 0, 1, 0],\n",
        "                  [0, 0, 0, 1]])\n",
        "    return T\n",
        "\n",
        "\n",
        "def dTy():\n",
        "    T = np.array([[0, 0, 0, 0],\n",
        "                  [0, 0, 0, 1],\n",
        "                  [0, 0, 0, 0],\n",
        "                  [0, 0, 0, 0]])\n",
        "    return T\n",
        "\n",
        "\n",
        "def Tz(z):\n",
        "    T = np.array([[1, 0, 0, 0],\n",
        "                  [0, 1, 0, 0],\n",
        "                  [0, 0, 1, z],\n",
        "                  [0, 0, 0, 1]])\n",
        "    return T\n",
        "\n",
        "\n",
        "def dTz(z):\n",
        "    T = np.array([[0, 0, 0, 0],\n",
        "                  [0, 0, 0, 0],\n",
        "                  [0, 0, 0, 1],\n",
        "                  [0, 0, 0, 0]])\n",
        "    return T\n",
        "\n",
        "\n",
        "def FK(q, thetas, links):\n",
        "    T = np.linalg.multi_dot([Tz(links[0]),\n",
        "                             Rz(q[0]),\n",
        "                             Rz(thetas[0]),\n",
        "                             Tx(links[1]),\n",
        "                             Ry(q[1]),\n",
        "                             Ry(thetas[1]),\n",
        "                             Tz(links[2]),\n",
        "                             Ry(q[2]),\n",
        "                             Ry(thetas[2]),\n",
        "                             Tx(-links[3]),\n",
        "                             Tz(links[4]),\n",
        "                             Rx(q[3]),\n",
        "                             Rx(thetas[3]),\n",
        "                             Ry(q[4]),\n",
        "                             Ry(thetas[4]),\n",
        "                             Tz(links[5]),\n",
        "                             Rx(q[5]),\n",
        "                             Ry(thetas[5])])\n",
        "    return T"
      ]
    },
    {
      "cell_type": "code",
      "source": [
        "links_length = np.array([0.4, 0.5, 0.5, 0.2, 0.1, 0.1])\n",
        "diameters = np.array([0.2, 0.05, 0.05, 0.01, 0.01, 0.01])\n",
        "thetas = np.array([0.01, 0.01, 0.01, 0.01, 0.01, 0.01])"
      ],
      "metadata": {
        "id": "w3UoqUhSdCnr"
      },
      "execution_count": null,
      "outputs": []
    },
    {
      "cell_type": "code",
      "source": [
        "def IK(pos, links, phi):\n",
        "    x = pos[0]\n",
        "    y = pos[1]\n",
        "    z = pos[2]\n",
        "    flag = 1 # elbow up and down\n",
        "\n",
        "    q0 = np.arctan2(y,x)\n",
        "    \n",
        "    v = z - links[0]\n",
        "    w = x*np.cos(q0) + y*np.sin(q0)\n",
        "\n",
        "    q2 =  np.arccos(((z-links[0])**2 + (x*np.cos(q0)+y*np.sin(q0))**2-links[1]**2-links[2]**2)/(2*links[1]*links[2]))\n",
        "\n",
        "    # print(q2)\n",
        "\n",
        "    c = -links[2]*np.sin(q2)\n",
        "    q1 = np.arctan2(v,w) + flag*np.arctan2(np.sqrt(v**2+w**2-c**2),c)\n",
        "\n",
        "    q3 = 0.01 \n",
        "    q4 = 0.01\n",
        "    q5 = 0.01\n",
        "\n",
        "    q = np.array([q0, q1, q2, q3, q4, q5])\n",
        "    return q\n"
      ],
      "metadata": {
        "id": "QGvhvpXrdFUi"
      },
      "execution_count": null,
      "outputs": []
    },
    {
      "cell_type": "code",
      "source": [
        "f = FK([np.pi, 1, 0.01, 0.01, 0.01, 0.01], thetas, links_length)\n",
        "\n",
        "ik = IK([0.7, 0, 0, 0.1, 0.1, 0.1], links_length, 0)"
      ],
      "metadata": {
        "id": "b8UF2jspdLtQ"
      },
      "execution_count": null,
      "outputs": []
    },
    {
      "cell_type": "markdown",
      "source": [
        " ## Stub"
      ],
      "metadata": {
        "id": "7TmQmbRqccb5"
      }
    },
    {
      "cell_type": "code",
      "source": [
        "# Stiffness parameters for links\n",
        "# Aluminum\n",
        "E = 6.9000e+10\n",
        "G = 2.5500e+10\n",
        "\n",
        "LinkDiameter = 0.15\n",
        "A = np.pi * (LinkDiameter ** 2) / 4\n",
        "\n",
        "Iy = np.pi * (LinkDiameter ** 4) / 64\n",
        "Iz = np.pi * (LinkDiameter ** 4) / 64\n",
        "Ip = Iy + Iz\n",
        "\n",
        "def JacobianForTheta(q, thetas, links):\n",
        "    T = FK(q, thetas, links)\n",
        "    T[0:3, 3] = 0\n",
        "    T_inv = np.transpose(T)\n",
        "\n",
        "    dT = np.linalg.multi_dot([Tz(links[0]),\n",
        "                             Rz(q[0]),\n",
        "                             dRz(thetas[0]),\n",
        "                             Tx(links[1]),\n",
        "                             Ry(q[1]),\n",
        "                             Ry(thetas[1]),\n",
        "                             Tz(links[2]),\n",
        "                             Ry(q[2]),\n",
        "                             Ry(thetas[2]),\n",
        "                             Tx(-links[3]),\n",
        "                             Tz(links[4]),\n",
        "                             Rx(q[3]),\n",
        "                             Rx(thetas[3]),\n",
        "                             Ry(q[4]),\n",
        "                             Ry(thetas[4]),\n",
        "                             Tz(links[5]),\n",
        "                             Rx(q[5]),\n",
        "                             Ry(thetas[5])])\n",
        "\n",
        "    dT = np.linalg.multi_dot([dT, T_inv])\n",
        "    J1 = np.vstack([dT[0, 3], dT[1, 3], dT[2, 3], dT[2, 1], dT[0, 2], dT[1, 0]])\n",
        "\n",
        "    dT = np.linalg.multi_dot([Tz(links[0]),\n",
        "                             Rz(q[0]),\n",
        "                             Rz(thetas[0]),\n",
        "                             Tx(links[1]),\n",
        "                             Ry(q[1]),\n",
        "                             dRy(thetas[1]),\n",
        "                             Tz(links[2]),\n",
        "                             Ry(q[2]),\n",
        "                             Ry(thetas[2]),\n",
        "                             Tx(-links[3]),\n",
        "                             Tz(links[4]),\n",
        "                             Rx(q[3]),\n",
        "                             Rx(thetas[3]),\n",
        "                             Ry(q[4]),\n",
        "                             Ry(thetas[4]),\n",
        "                             Tz(links[5]),\n",
        "                             Rx(q[5]),\n",
        "                             Ry(thetas[5])])\n",
        "\n",
        "    dT = np.linalg.multi_dot([dT, T_inv])\n",
        "    J2 = np.vstack([dT[0, 3], dT[1, 3], dT[2, 3], dT[2, 1], dT[0, 2], dT[1, 0]])\n",
        "\n",
        "    dT = np.linalg.multi_dot([Tz(links[0]),\n",
        "                             Rz(q[0]),\n",
        "                             Rz(thetas[0]),\n",
        "                             Tx(links[1]),\n",
        "                             Ry(q[1]),\n",
        "                             Ry(thetas[1]),\n",
        "                             Tz(links[2]),\n",
        "                             Ry(q[2]),\n",
        "                             dRy(thetas[2]),\n",
        "                             Tx(-links[3]),\n",
        "                             Tz(links[4]),\n",
        "                             Rx(q[3]),\n",
        "                             Rx(thetas[3]),\n",
        "                             Ry(q[4]),\n",
        "                             Ry(thetas[4]),\n",
        "                             Tz(links[5]),\n",
        "                             Rx(q[5]),\n",
        "                             Ry(thetas[5])])\n",
        "\n",
        "    dT = np.linalg.multi_dot([dT, T_inv])\n",
        "    J3 = np.vstack([dT[0, 3], dT[1, 3], dT[2, 3], dT[2, 1], dT[0, 2], dT[1, 0]])\n",
        "\n",
        "    dT = np.linalg.multi_dot([Tz(links[0]),\n",
        "                             Rz(q[0]),\n",
        "                             Rz(thetas[0]),\n",
        "                             Tx(links[1]),\n",
        "                             Ry(q[1]),\n",
        "                             Ry(thetas[1]),\n",
        "                             Tz(links[2]),\n",
        "                             Ry(q[2]),\n",
        "                             Ry(thetas[2]),\n",
        "                             Tx(-links[3]),\n",
        "                             Tz(links[4]),\n",
        "                             Rx(q[3]),\n",
        "                             dRx(thetas[3]),\n",
        "                             Ry(q[4]),\n",
        "                             Ry(thetas[4]),\n",
        "                             Tz(links[5]),\n",
        "                             Rx(q[5]),\n",
        "                             Ry(thetas[5])])\n",
        "\n",
        "    dT = np.linalg.multi_dot([dT, T_inv])\n",
        "    J4 = np.vstack([dT[0, 3], dT[1, 3], dT[2, 3], dT[2, 1], dT[0, 2], dT[1, 0]])\n",
        "\n",
        "\n",
        "    dT = np.linalg.multi_dot([Tz(links[0]),\n",
        "                             Rz(q[0]),\n",
        "                             Rz(thetas[0]),\n",
        "                             Tx(links[1]),\n",
        "                             Ry(q[1]),\n",
        "                             Ry(thetas[1]),\n",
        "                             Tz(links[2]),\n",
        "                             Ry(q[2]),\n",
        "                             Ry(thetas[2]),\n",
        "                             Tx(-links[3]),\n",
        "                             Tz(links[4]),\n",
        "                             Rx(q[3]),\n",
        "                             Rx(thetas[3]),\n",
        "                             Ry(q[4]),\n",
        "                             dRy(thetas[4]),\n",
        "                             Tz(links[5]),\n",
        "                             Rx(q[5]),\n",
        "                             Ry(thetas[5])])\n",
        "    \n",
        "    dT = np.linalg.multi_dot([dT, T_inv])\n",
        "    J5 = np.vstack([dT[0, 3], dT[1, 3], dT[2, 3], dT[2, 1], dT[0, 2], dT[1, 0]])\n",
        "    \n",
        "\n",
        "    dT = np.linalg.multi_dot([Tz(links[0]),\n",
        "                             Rz(q[0]),\n",
        "                             Rz(thetas[0]),\n",
        "                             Tx(links[1]),\n",
        "                             Ry(q[1]),\n",
        "                             Ry(thetas[1]),\n",
        "                             Tz(links[2]),\n",
        "                             Ry(q[2]),\n",
        "                             Ry(thetas[2]),\n",
        "                             Tx(-links[3]),\n",
        "                             Tz(links[4]),\n",
        "                             Rx(q[3]),\n",
        "                             Rx(thetas[3]),\n",
        "                             Ry(q[4]),\n",
        "                             Ry(thetas[4]),\n",
        "                             Tz(links[5]),\n",
        "                             Rx(q[5]),\n",
        "                             dRy(thetas[5])])\n",
        "    \n",
        "    dT = np.linalg.multi_dot([dT, T_inv])\n",
        "    J6 = np.vstack([dT[0, 3], dT[1, 3], dT[2, 3], dT[2, 1], dT[0, 2], dT[1, 0]])\n",
        "\n",
        "    J = np.hstack([J1, J2, J3, J4, J5, J6])\n",
        "    return J\n",
        "\n"
      ],
      "metadata": {
        "id": "0qcUa87mc_Ty"
      },
      "execution_count": null,
      "outputs": []
    },
    {
      "cell_type": "markdown",
      "source": [
        "# Geometric Calibration "
      ],
      "metadata": {
        "id": "aPMlJIp65PLu"
      }
    },
    {
      "cell_type": "code",
      "source": [
        ""
      ],
      "metadata": {
        "id": "qyYCO1sE7aXF"
      },
      "execution_count": null,
      "outputs": []
    },
    {
      "cell_type": "markdown",
      "source": [
        "# Redundancy Resolution"
      ],
      "metadata": {
        "id": "LZpptqgL5SsT"
      }
    },
    {
      "cell_type": "markdown",
      "source": [
        "## My Forward Kinematic"
      ],
      "metadata": {
        "id": "4Te-6cjIeK2L"
      }
    },
    {
      "cell_type": "markdown",
      "source": [
        "### Sympy Variables"
      ],
      "metadata": {
        "id": "hUrc8Q9XvuQK"
      }
    },
    {
      "cell_type": "code",
      "source": [
        "q0 , q1, q2, q3, q4, q5 = sp.symbols('q_0, q_1, q_2, q_3, q_4, q_5')\n",
        "l0, l1, l2, l3, l4, l5 = sp.symbols('l_0, l_1, l_2, l_3, l_4, l_5')\n",
        "qs = [q0, q1, q2, q3, q4, q5]\n",
        "ls = [l0, l1, l2, l3, l4, l5]\n",
        "vars = qs + ls\n",
        "x, y, z = sp.symbols('x, y, z')\n",
        "pi = sp.pi"
      ],
      "metadata": {
        "id": "mjsck6tAeIi5"
      },
      "execution_count": null,
      "outputs": []
    },
    {
      "cell_type": "markdown",
      "source": [
        "### Transformation Matrices"
      ],
      "metadata": {
        "id": "4HIIic2pvqYS"
      }
    },
    {
      "cell_type": "code",
      "source": [
        "Rx = sp.Matrix([[1, 0, 0, 0],\n",
        "               [0, sp.cos(q1), -sp.sin(q1), 0],\n",
        "               [0, sp.sin(q1), sp.cos(q1), 0], \n",
        "                [0, 0, 0, 1]])\n",
        "Ry = sp.Matrix([\n",
        "                [sp.cos(q1), 0, sp.sin(q1), 0],\n",
        "                [0, 1, 0, 0],\n",
        "                [-sp.sin(q1), 0, sp.cos(q1), 0],\n",
        "                [0, 0, 0, 1]])\n",
        "Rz = sp.Matrix([[sp.cos(q1), -sp.sin(q1), 0, 0], \n",
        "               [sp.sin(q1), sp.cos(q1), 0, 0],\n",
        "               [0, 0, 1, 0],\n",
        "                [0, 0, 0, 1]])\n",
        "\n",
        "Tx = sp.Matrix([\n",
        "                [1, 0, 0, x],\n",
        "                [0, 1, 0, 0],\n",
        "                [0, 0, 1, 0],\n",
        "                [0, 0, 0, 1]]\n",
        "  )\n",
        "Ty = sp.Matrix([\n",
        "                [1, 0, 0, 0],\n",
        "                [0, 1, 0, y],\n",
        "                [0, 0, 1, 0],\n",
        "                [0, 0, 0, 1]]\n",
        "  )\n",
        "Tz = sp.Matrix([\n",
        "                [1, 0, 0, 0],\n",
        "                [0, 1, 0, 0],\n",
        "                [0, 0, 1, z],\n",
        "                [0, 0, 0, 1]]\n",
        "  )\n",
        "def Transform(theta, alpha, d, a, axis='z'):\n",
        "    if axis == 'x':\n",
        "        Q = Tx.subs(x, d)\n",
        "    elif axis == 'y':\n",
        "        Q = Ty.subs(y, d)\n",
        "    else:\n",
        "        Q = Tz.subs(z, d)\n",
        "    \n",
        "    return Rx.subs(q1, alpha)@\\\n",
        "        Tx.subs(x, a)@\\\n",
        "        Rz.subs(q1, theta)@\\\n",
        "        Q\n",
        "\n"
      ],
      "metadata": {
        "id": "W-HJvYDlf_fx"
      },
      "execution_count": null,
      "outputs": []
    },
    {
      "cell_type": "markdown",
      "source": [
        "### Transformations"
      ],
      "metadata": {
        "id": "zkIJFYntv0jO"
      }
    },
    {
      "cell_type": "code",
      "source": [
        "T0_1 = Transform(q0, 0, l0, 0)\n",
        "T1_2 = Transform(q1, pi/2, l1, 0, 'y')\n",
        "T2_3 = Transform(q3, 0, l2, 0, 'y')\n",
        "# T3_4 = Transform(q4, -pi/2, l3, 0)\n",
        "# T4_5 = Transform(q5, pi/2, l4, 0)\n",
        "# T5_6 = Transform(q5, -pi/2, l5, 0)\n",
        "T3_4 = Transform(q4, -pi/2, 0, 0)\n",
        "T4_5 = Transform(q5, pi/2, 0, 0)\n",
        "T5_6 = Transform(q5, -pi/2, 0, 0)\n",
        "\n",
        "T1_2"
      ],
      "metadata": {
        "colab": {
          "base_uri": "https://localhost:8080/",
          "height": 98
        },
        "id": "VeE5zLIOhhrh",
        "outputId": "729babd5-5176-4432-feb7-005bb073a996"
      },
      "execution_count": null,
      "outputs": [
        {
          "output_type": "execute_result",
          "data": {
            "text/plain": [
              "Matrix([\n",
              "[cos(q_1), -sin(q_1),  0, -l_1*sin(q_1)],\n",
              "[       0,         0, -1,             0],\n",
              "[sin(q_1),  cos(q_1),  0,  l_1*cos(q_1)],\n",
              "[       0,         0,  0,             1]])"
            ],
            "text/latex": "$\\displaystyle \\left[\\begin{matrix}\\cos{\\left(q_{1} \\right)} & - \\sin{\\left(q_{1} \\right)} & 0 & - l_{1} \\sin{\\left(q_{1} \\right)}\\\\0 & 0 & -1 & 0\\\\\\sin{\\left(q_{1} \\right)} & \\cos{\\left(q_{1} \\right)} & 0 & l_{1} \\cos{\\left(q_{1} \\right)}\\\\0 & 0 & 0 & 1\\end{matrix}\\right]$"
          },
          "metadata": {},
          "execution_count": 9
        }
      ]
    },
    {
      "cell_type": "code",
      "source": [
        "T0_6 = T0_1@T1_2@T2_3@T3_4@T4_5@T5_6\n",
        "P = T0_6[:3, -1]\n",
        "P = P.subs([(l3,0), (l4, 0), (l5, 0)])\n",
        "p_lambda = sp.lambdify(vars, P, 'sympy')\n",
        "r = p_lambda(0, 0, 0, 0, 0, 0, l0, l1, l2, l3, l4, l5)\n",
        "T_lambda = sp.lambdify(vars, T0_6, 'numpy')\n",
        "r"
      ],
      "metadata": {
        "colab": {
          "base_uri": "https://localhost:8080/",
          "height": 78
        },
        "id": "dqdhzGVNjtoj",
        "outputId": "2d2e4b9f-bd4e-469b-f631-f046d3e1d81f"
      },
      "execution_count": null,
      "outputs": [
        {
          "output_type": "execute_result",
          "data": {
            "text/plain": [
              "Matrix([\n",
              "[              0],\n",
              "[              0],\n",
              "[l_0 + l_1 + l_2]])"
            ],
            "text/latex": "$\\displaystyle \\left[\\begin{matrix}0\\\\0\\\\l_{0} + l_{1} + l_{2}\\end{matrix}\\right]$"
          },
          "metadata": {},
          "execution_count": 10
        }
      ]
    },
    {
      "cell_type": "markdown",
      "source": [
        "### Euler Angles"
      ],
      "metadata": {
        "id": "kVqpp38M2CrM"
      }
    },
    {
      "cell_type": "code",
      "source": [
        "def euler_angles_sym(R, sndSol=True):\n",
        "  rx = sp.atan2(R[2,0], R[2,1])\n",
        "  ry = sp.atan2(sp.sqrt(R[0,2]**2 + R[1,2]**2), R[2,2])\n",
        "  rz = sp.atan2(R[0,2], -R[1,2])\n",
        "\n",
        "  return rx, ry, rz"
      ],
      "metadata": {
        "id": "7pAvrPuw2A1Z"
      },
      "execution_count": null,
      "outputs": []
    },
    {
      "cell_type": "code",
      "source": [
        "R = T0_6[:3, :3]\n",
        "R.shape\n",
        "rx, ry, rz = euler_angles_sym(R)"
      ],
      "metadata": {
        "id": "SYz6Bcud2fx7"
      },
      "execution_count": null,
      "outputs": []
    },
    {
      "cell_type": "markdown",
      "source": [
        "### Jacobian"
      ],
      "metadata": {
        "id": "zXwJVWeOv5lo"
      }
    },
    {
      "cell_type": "code",
      "source": [
        "Jacobian = []\n",
        "\n",
        "for f in P:\n",
        "    # x, y, z\n",
        "    Jacobian.append([sp.diff(f,q) for q in qs])\n",
        "for f in (rx, ry, rz):\n",
        "    Jacobian.append([sp.diff(f,q) for q in qs])\n",
        "Jacobian = sp.Matrix(Jacobian)\n",
        "J_lambda = sp.lambdify(vars, Jacobian, 'numpy')\n",
        "Jacobian.shape"
      ],
      "metadata": {
        "id": "kt0yi5Y-SkZp",
        "colab": {
          "base_uri": "https://localhost:8080/"
        },
        "outputId": "0a4628de-e44b-4f9b-9f9b-68a581f391b0"
      },
      "execution_count": null,
      "outputs": [
        {
          "output_type": "execute_result",
          "data": {
            "text/plain": [
              "(6, 6)"
            ]
          },
          "metadata": {},
          "execution_count": 13
        }
      ]
    },
    {
      "cell_type": "markdown",
      "source": [
        "### H"
      ],
      "metadata": {
        "id": "qbnYoQyA3XfS"
      }
    },
    {
      "cell_type": "code",
      "source": [
        "def GetH(jacob):\n",
        "    H = np.sqrt(np.linalg.det(np.linalg.multi_dot([jacob.T, jacob])))\n",
        "    return H"
      ],
      "metadata": {
        "id": "h_Aihk7lR7iD"
      },
      "execution_count": null,
      "outputs": []
    },
    {
      "cell_type": "markdown",
      "source": [
        "### Plot FK"
      ],
      "metadata": {
        "id": "S9XV6Xa73Z5P"
      }
    },
    {
      "cell_type": "code",
      "source": [
        "T0_1_lambda = sp.lambdify(vars, T0_1, 'numpy')\n",
        "T0_2 = T0_1@T1_2\n",
        "T0_2_lambda = sp.lambdify(vars, T0_2, 'numpy')\n",
        "T0_3 = T0_2@T2_3\n",
        "T0_3_lambda = sp.lambdify(vars, T0_3, 'numpy')\n",
        "T0_4 = T0_3@T3_4\n",
        "T0_4_lambda = sp.lambdify(vars, T0_4, 'numpy')\n",
        "T0_5 = T0_4@T4_5\n",
        "T0_5_lambda = sp.lambdify(vars, T0_5, 'numpy')\n",
        "T0_6 = T0_5@T5_6\n",
        "T0_6_lambda = sp.lambdify(vars, T0_6, 'numpy')\n",
        "\n",
        "def PlotFK(q: list, links: list, color='b', linewidth=3):\n",
        "    \"\"\"\n",
        "    q:      contains joint angles 1x6\n",
        "    links:  contains length of links 1x6\n",
        "    \"\"\"\n",
        "    pos0 = [0, 0, 0]\n",
        "    \n",
        "    val = tuple(q+links)\n",
        "\n",
        "    T = T0_1_lambda(*val)\n",
        "\n",
        "    pos1 = T[0:3, 3]\n",
        "\n",
        "    T = T0_2_lambda(*val)\n",
        "\n",
        "    pos2 = T[0:3, 3]\n",
        "\n",
        "    T = T0_3_lambda(*val)\n",
        "\n",
        "    pos3 = T[0:3, 3]\n",
        "\n",
        "    T = T0_4_lambda(*val)\n",
        "\n",
        "    pos4 = T[0:3, 3]\n",
        "\n",
        "    T = T0_5_lambda(*val)\n",
        "    \n",
        "    pos5 = T[0:3, 3]\n",
        "\n",
        "    T = T0_6_lambda(*val)\n",
        "\n",
        "    pos6 = T[0:3, 3]\n",
        "    # print(f\"End-effector pos: {pos6}\")\n",
        "\n",
        "    x = [pos0[0], pos1[0], pos2[0], pos3[0], pos4[0], pos5[0], pos6[0]]\n",
        "    y = [pos0[1], pos1[1], pos2[1], pos3[1], pos4[1], pos5[1], pos6[1]]\n",
        "    z = [pos0[2], pos1[2], pos2[2], pos3[2], pos4[2], pos5[2], pos6[2]]\n",
        "\n",
        "    ax.set_xlim(-0.5, 0.5)\n",
        "    ax.set_ylim(-0.5, 0.5)\n",
        "    ax.set_zlim(0, 1)\n",
        "\n",
        "    ax.plot3D(x, y, z, linewidth=linewidth, c=color)"
      ],
      "metadata": {
        "id": "vbkIQf4t6X84"
      },
      "execution_count": null,
      "outputs": []
    },
    {
      "cell_type": "code",
      "source": [
        "ax = plt.axes(projection='3d')\n",
        "links_length = np.array([0.3, 0.5, 0.5, 0, 0, 0])\n",
        "joint_angles = [np.pi/3, np.pi/3, np.pi / 2, np.pi / 2, np.pi / 2, np.pi / 2]\n",
        "PlotFK(joint_angles, links_length.tolist(), color=\"blue\")\n",
        "ax.set_title('Test')\n",
        "plt.show()"
      ],
      "metadata": {
        "colab": {
          "base_uri": "https://localhost:8080/",
          "height": 248
        },
        "id": "boUJ5faA-bU9",
        "outputId": "7ae36045-9178-432a-a3c9-1638b4ee79fe"
      },
      "execution_count": null,
      "outputs": [
        {
          "output_type": "display_data",
          "data": {
            "text/plain": [
              "<Figure size 432x288 with 1 Axes>"
            ],
            "image/png": "[encoded data removed]"
          },
          "metadata": {
            "needs_background": "light"
          }
        }
      ]
    },
    {
      "cell_type": "markdown",
      "source": [
        "#### Initial FK"
      ],
      "metadata": {
        "id": "Ci8fVLLO-A3L"
      }
    },
    {
      "cell_type": "code",
      "source": [
        "def PlotFK_1(q, links, color='b', linewidth=3):\n",
        "    pos0 = [0, 0, 0]\n",
        "\n",
        "    T = Tz(links[0])\n",
        "\n",
        "    pos1 = T[0:3, 3]\n",
        "\n",
        "\n",
        "    T = np.linalg.multi_dot([Tz(links[0]),\n",
        "                             Rz(q[0]),\n",
        "                             Tx(links[1])])\n",
        "\n",
        "    pos2 = T[0:3, 3]\n",
        "\n",
        "    T = np.linalg.multi_dot([Tz(links[0]),\n",
        "                             Rz(q[0]),\n",
        "                             Tx(links[1]),\n",
        "                             Ry(q[1]),\n",
        "                             Tz(links[2])])\n",
        "    pos3 = T[0:3, 3]\n",
        "\n",
        "    T = np.linalg.multi_dot([Tz(links[0]),\n",
        "                             Rz(q[0]),\n",
        "                             Tx(links[1]),\n",
        "                             Ry(q[1]),\n",
        "                             Tz(links[2]),\n",
        "                             Ry(q[2]),\n",
        "                             Tx(-links[3])])\n",
        "\n",
        "\n",
        "    pos4 = T[0:3, 3]\n",
        "\n",
        "    T = np.linalg.multi_dot([Tz(links[0]),\n",
        "                             Rz(q[0]),\n",
        "                             Tx(links[1]),\n",
        "                             Ry(q[1]),\n",
        "                             Tz(links[2]),\n",
        "                             Ry(q[2]),\n",
        "                             Tx(-links[3]),\n",
        "                             Rx(q[3]),\n",
        "                             Tz(links[4])])\n",
        "    \n",
        "\n",
        "    pos5 = T[0:3, 3]\n",
        "\n",
        "    T = np.linalg.multi_dot([Tz(links[0]),\n",
        "                             Rz(q[0]),\n",
        "                             Tx(links[1]),\n",
        "                             Ry(q[1]),\n",
        "                             Tz(links[2]),\n",
        "                             Ry(q[2]),\n",
        "                             Tx(-links[3]),\n",
        "                             Rx(q[3]),\n",
        "                             Tz(links[4]),\n",
        "                             Ry(q[4]),\n",
        "                             Tz(links[5]), \n",
        "                             Rx(q[5])])\n",
        "\n",
        "\n",
        "    pos6 = T[0:3, 3]\n",
        "    # print(f\"End-effector pos: {pos6}\")\n",
        "\n",
        "    x = [pos0[0], pos1[0], pos2[0], pos3[0], pos4[0], pos5[0], pos6[0]]\n",
        "    y = [pos0[1], pos1[1], pos2[1], pos3[1], pos4[1], pos5[1], pos6[1]]\n",
        "    z = [pos0[2], pos1[2], pos2[2], pos3[2], pos4[2], pos5[2], pos6[2]]\n",
        "\n",
        "    ax.set_xlim(-0.5, 0.5)\n",
        "    ax.set_ylim(-0.5, 0.5)\n",
        "    ax.set_zlim(0, 1)\n",
        "\n",
        "    ax.plot3D(x, y, z, linewidth=linewidth, c=color)"
      ],
      "metadata": {
        "id": "lw5CvByHTncZ"
      },
      "execution_count": null,
      "outputs": []
    },
    {
      "cell_type": "markdown",
      "source": [
        "#### Nullspace"
      ],
      "metadata": {
        "id": "-0lqHMbV-Fj9"
      }
    },
    {
      "cell_type": "code",
      "source": [
        "def NullSpace(q_current, r_global, links_length):\n",
        "    i = 0\n",
        "    error = [10, 10, 10, 10, 10, 10]\n",
        "\n",
        "    while abs(sum(error[0:3])) > 0.01 or i < 2:\n",
        "        values = tuple(q_current.tolist()+links_length.tolist())\n",
        "        r_current = T_lambda(*values)\n",
        "        r_current = np.hstack([r_current[0:3, 3], [0, 0, 0]])\n",
        "\n",
        "        error = r_global - r_current\n",
        "        # print(r_global, r_current)\n",
        "        if i%200 == 0:\n",
        "            print(f\"[{i}] Error sum: {sum(error[0:3])}\")\n",
        "        d_error = error / 100\n",
        "\n",
        "        jac = J_lambda(*values)\n",
        "        jac_pinv = np.linalg.pinv(jac)\n",
        "\n",
        "        H_init = GetH(jac)\n",
        "\n",
        "        delta_q = 0.001\n",
        "\n",
        "        q_dot_zero = None\n",
        "\n",
        "        for j in range(len(jac[0])):\n",
        "            v_cur = q_current.copy()\n",
        "            v_cur[0] += delta_q\n",
        "            values = tuple(v_cur.tolist()+links_length.tolist())\n",
        "            jac_cur = J_lambda(*values)\n",
        "            H_cur = GetH(jac_cur)\n",
        "\n",
        "            q_dot_zero_cur = (H_cur - H_init) / delta_q\n",
        "\n",
        "            if q_dot_zero is None:\n",
        "                q_dot_zero = q_dot_zero_cur\n",
        "            else:\n",
        "                q_dot_zero = np.hstack([q_dot_zero, q_dot_zero_cur])\n",
        "\n",
        "        term01 = np.dot(jac_pinv, jac)\n",
        "\n",
        "        Im = np.ones((6, 6))\n",
        "        term0 = Im - term01\n",
        "\n",
        "        delta_q = np.dot(jac_pinv, d_error) + np.dot(term0, q_dot_zero)\n",
        "\n",
        "        q_current = q_current + delta_q\n",
        "        i += 1\n",
        "\n",
        "        if i % 20 == 0:\n",
        "            PlotFK(q_current.tolist(), links_length.tolist(), color=\"black\", linewidth=0.2)\n",
        "\n",
        "    return q_current"
      ],
      "metadata": {
        "id": "7y2riNAw5SDf"
      },
      "execution_count": null,
      "outputs": []
    },
    {
      "cell_type": "markdown",
      "source": [
        "#### Code"
      ],
      "metadata": {
        "id": "a1cMc0Up-hpn"
      }
    },
    {
      "cell_type": "code",
      "source": [
        "ax = plt.axes(projection='3d')\n",
        "\n",
        "# NullSpace\n",
        "PlotFK(joint_angles, links_length.tolist(), color=\"blue\")\n",
        "\n",
        "r_global = np.array([-0.4, 0.4, 0.466, 0, 0, 0])\n",
        "q_start = np.array([0.01, 0.01, 0.01, 0.01, 0.01, 0.01])\n",
        "\n",
        "q_final = NullSpace(q_start, r_global, links_length)\n",
        "PlotFK(q_final.tolist(), links_length.tolist(), 'r')\n",
        "\n",
        "ax.set_title('NullSpace')\n",
        "plt.show()"
      ],
      "metadata": {
        "colab": {
          "base_uri": "https://localhost:8080/",
          "height": 265
        },
        "id": "k0H73m0eZoHJ",
        "outputId": "246f9fe5-6fce-4626-fc3b-c6a8ed83b9ff"
      },
      "execution_count": null,
      "outputs": [
        {
          "output_type": "stream",
          "name": "stdout",
          "text": [
            "[0] Error sum: -0.8187265134838477\n"
          ]
        },
        {
          "output_type": "display_data",
          "data": {
            "text/plain": [
              "<Figure size 432x288 with 1 Axes>"
            ],
            "image/png": "[encoded data removed]"
          },
          "metadata": {
            "needs_background": "light"
          }
        }
      ]
    },
    {
      "cell_type": "code",
      "source": [
        "def WeightedPseudoInv(q_current, weighs, links_length):\n",
        "    i = 0\n",
        "    error = [10, 10, 10, 10, 10, 10]\n",
        "\n",
        "    while abs(sum(error[0:3])) > 0.01 or i < 2:\n",
        "        values = tuple(q_current.tolist()+links_length.tolist())\n",
        "        r_current = T_lambda(*values)\n",
        "        r_current = np.hstack([r_current[0:3, 3], [0, 0, 0]])\n",
        "\n",
        "        error = r_global - r_current\n",
        "        # print(f\"[{i}] Error sum: {round(sum(error[0:3]), 4)}\")\n",
        "        d_error = error / 100\n",
        "\n",
        "        jac = J_lambda(*values)\n",
        "        # print(jac.shape)\n",
        "\n",
        "        J_wgh_1 = np.linalg.multi_dot([np.linalg.pinv(weighs), np.transpose(jac)])\n",
        "        J_wgh_2 = np.linalg.multi_dot([jac, np.linalg.pinv(weighs), np.transpose(jac)])\n",
        "\n",
        "        J_wgh = np.linalg.multi_dot([J_wgh_1, np.linalg.pinv(J_wgh_2)])\n",
        "\n",
        "        delta_q = np.dot(J_wgh, d_error)\n",
        "        # print(delta_q.shape)\n",
        "\n",
        "        q_current = q_current + delta_q\n",
        "        i += 1\n",
        "\n",
        "        if i % 20 == 0:\n",
        "            PlotFK(q_current.tolist(), links_length.tolist(), color=\"black\", linewidth=0.2)\n",
        "\n",
        "    return q_current"
      ],
      "metadata": {
        "id": "LrjkxcV4Z0Nn"
      },
      "execution_count": null,
      "outputs": []
    },
    {
      "cell_type": "code",
      "source": [
        "ax = plt.axes(projection='3d')\n",
        "# Weighted pseudo inv\n",
        "PlotFK(joint_angles, links_length.tolist(), color=\"blue\")\n",
        "\n",
        "r_global = np.array([-0.4, 0.4, 0.466, 0, 0, 0])\n",
        "q_start = np.array([0.01, 0.01, 0.01, 0.01, 0.01, 0.01])\n",
        "weighs_pseudo_inv = np.diag([1, 1, 1, 1, 1, 1])\n",
        "\n",
        "q_final = WeightedPseudoInv(q_start, weighs_pseudo_inv, links_length)\n",
        "PlotFK(q_final.tolist(), links_length.tolist(), 'r')\n",
        "\n",
        "ax.set_title('Weighted pseudo inv')\n",
        "plt.show()"
      ],
      "metadata": {
        "colab": {
          "base_uri": "https://localhost:8080/",
          "height": 248
        },
        "id": "1hAtgU_XgZ5_",
        "outputId": "218281cf-e231-4dd7-e73e-a68ceeb406aa"
      },
      "execution_count": null,
      "outputs": [
        {
          "output_type": "display_data",
          "data": {
            "text/plain": [
              "<Figure size 432x288 with 1 Axes>"
            ],
            "image/png": "[encoded data removed]"
          },
          "metadata": {
            "needs_background": "light"
          }
        }
      ]
    },
    {
      "cell_type": "markdown",
      "source": [
        "# Appendix"
      ],
      "metadata": {
        "id": "u8cwxnOprA4w"
      }
    },
    {
      "cell_type": "code",
      "source": [
        "# Tx.subs([(x, a), (y, 0), (z, 0)])@\\\n",
        "# return sp.Matrix([\n",
        "#                   [sp.cos(theta), -sp.sin(theta), 0, a],\n",
        "#                   [sp.sin(theta)*sp.cos(alpha), sp.cos(theta)*sp.cos(alpha), -sp.sin(alpha), -sp.sin(alpha)*d],\n",
        "#                   [sp.sin(theta)*sp.sin(alpha), sp.cos(theta)*sp.sin(alpha), sp.cos(alpha), sp.cos(alpha)*d],\n",
        "#                   [0, 0, 0, 1]\n",
        "# ])"
      ],
      "metadata": {
        "id": "BNc4p_Odq_MZ"
      },
      "execution_count": null,
      "outputs": []
    },
    {
      "cell_type": "code",
      "source": [
        "# d = sp.Matrix([[1, 2, 3], [4, 5, 6], [7, 8, 9]])\n",
        "# d"
      ],
      "metadata": {
        "id": "NYEqd7-u3BEH"
      },
      "execution_count": null,
      "outputs": []
    },
    {
      "cell_type": "code",
      "source": [
        "# d[:2, :2]"
      ],
      "metadata": {
        "id": "pkITktK_3JDi"
      },
      "execution_count": null,
      "outputs": []
    },
    {
      "cell_type": "code",
      "source": [
        "# tuple([1,2]+[2, 3])\n",
        "# r_global = np.array([-0.4, 0.4, 0.466, 0, 0, 0])\n",
        "# r_global.tolist()"
      ],
      "metadata": {
        "id": "ENfR1MwQ3Jim"
      },
      "execution_count": null,
      "outputs": []
    },
    {
      "cell_type": "code",
      "source": [
        "# 70E5"
      ],
      "metadata": {
        "id": "2zKixdB59LN3"
      },
      "execution_count": null,
      "outputs": []
    },
    {
      "cell_type": "code",
      "source": [
        ""
      ],
      "metadata": {
        "id": "NhSTM3wcRrBv"
      },
      "execution_count": null,
      "outputs": []
    }
  ]
}