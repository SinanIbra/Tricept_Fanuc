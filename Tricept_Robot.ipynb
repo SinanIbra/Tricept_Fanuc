{
  "nbformat": 4,
  "nbformat_minor": 0,
  "metadata": {
    "colab": {
      "name": "Tricept Robot.ipynb",
      "provenance": [],
      "collapsed_sections": [
        "mWqT3gpPcszz",
        "l8nSx0QprYxS",
        "sGKOoNCGrg-l",
        "N1wPHrHb1MdG",
        "4QbyaSVbxKuJ"
      ]
    },
    "kernelspec": {
      "name": "python3",
      "display_name": "Python 3"
    },
    "language_info": {
      "name": "python"
    }
  },
  "cells": [
    {
      "cell_type": "markdown",
      "source": [
        "# New Section"
      ],
      "metadata": {
        "id": "lSE_lMdXcpwM"
      }
    },
    {
      "cell_type": "markdown",
      "source": [
        "## Load libraries"
      ],
      "metadata": {
        "id": "mWqT3gpPcszz"
      }
    },
    {
      "cell_type": "code",
      "source": [
        "import numpy as np\n",
        "import sympy as sp"
      ],
      "metadata": {
        "id": "bGsxcS4jcrTb"
      },
      "execution_count": null,
      "outputs": []
    },
    {
      "cell_type": "markdown",
      "source": [
        "## Assumptions and Variables"
      ],
      "metadata": {
        "id": "GQjEY8AkZ2X0"
      }
    },
    {
      "cell_type": "markdown",
      "source": [
        "1. We assign the base a diameter of say 60m\n",
        "2. The external legs are evenly spaced some distance away from the edge\n",
        "3. From our view, the angle each leg makes with the horizontal, can be calculated as follows. Given length of leg $l_i$ for $ i \\in {1, 2, 3}$, length of central leg $l_c$, and radius of base $r_b$.\n",
        "4. The legs at the extreme make two angles with the horizontal, α and β (along $XZ$, $YZ$ respectively), α = β. α can be calculated as $α = sin^{-1}(l_c/l_i)$\n",
        "5. The leg aligned with the central leg makes an angle $β = sin^{-1}(l_c/l_i)$ along $YZ$.\n",
        "\n"
      ],
      "metadata": {
        "id": "KLX9_wanZ7Em"
      }
    },
    {
      "cell_type": "code",
      "source": [
        "# Configurations\n",
        "ra = 0.4  # radius of base (aka static platform)\n",
        "rb = 0.1  # radius of mobile platform (aka dynamic platform)\n",
        "\n",
        "d = 10E-2   # diameter of link\n",
        "# for 3 legs\n",
        "L1 = [0.8]*4\n",
        "L2 = [0.8]*4\n",
        "# for central leg\n",
        "Lc1 = [0.8]*4\n",
        "Lc2 = [0.8]*4\n",
        "\n",
        "############################################\n",
        "S = np.pi*(d**2)/4\n",
        "Iy = np.pi*(d**2)/64\n",
        "Iz = np.pi*(d**2)/64\n",
        "J = Iy + Iz\n",
        "############################################\n",
        "\n",
        "# beam cross section area \n",
        "# external legs\n",
        "Se1 = S\n",
        "Se2 = S\n",
        "# central legs\n",
        "Sc1 = S\n",
        "Sc2 = S\n",
        "\n",
        "# Second Order Moment\n",
        "# External Legs\n",
        "Iy1 = 0.03  # x principle moment of inertia for bottom beam\n",
        "Iy2 = 0.04  # y principle moment of inertia for top beam\n",
        "Iz1 =  0.04\n",
        "Iz2 = 0.05\n",
        "# Central Legs\n",
        "Icy1 = 0.05  # x principle moment of inertia for bottom beam\n",
        "Icy2 = 0.04  # y principle moment of inertia for top beam\n",
        "Icz1 =  0.06\n",
        "Icz2 = 0.02\n",
        "\n",
        "# Polar Moments\n",
        "# External\n",
        "J1 = 0.5 # top leg\n",
        "J2 = 0.6\n",
        "# Central\n",
        "Jc1 = 0.5\n",
        "J2c = 0.55\n",
        "\n",
        "# Young and Coulomb's Modulus\n",
        "# External\n",
        "Ee1 = 70E9 # lower\n",
        "Ee2 = 70E9 # upper\n",
        "Ge1 = 25E9  # lower\n",
        "Ge2 = 25E9    # upper\n",
        "# Central\n",
        "Ec = 70E9\n",
        "Gc = 25E9\n",
        "\n"
      ],
      "metadata": {
        "id": "VATF5E7mieB8"
      },
      "execution_count": null,
      "outputs": []
    },
    {
      "cell_type": "markdown",
      "source": [
        "# Main Code"
      ],
      "metadata": {
        "id": "GsKtWDkqrL3A"
      }
    },
    {
      "cell_type": "markdown",
      "source": [
        "## Rotation Matrices"
      ],
      "metadata": {
        "id": "yIusbDtkrT2F"
      }
    },
    {
      "cell_type": "markdown",
      "source": [
        "We have a rotation matrix for each of the 3 legs.\\\n",
        "$Leg_1$ is rotated along the $x$ and $y$ axis. \\\n",
        "$Leg_2$ is also rotated along the $x$ and $y$ axis. \\\n",
        "$Leg_3$ is rotated along the $x$ axis only. \\\n",
        "$Leg_c$ (the central leg) is not rotated. \\\n"
      ],
      "metadata": {
        "id": "tZvW4Lkdckl8"
      }
    },
    {
      "cell_type": "code",
      "source": [
        "q1, q2, q3 = sp.symbols('q1, q2, q3')\n",
        "\n",
        "Rx = sp.Matrix([[1, 0, 0],\n",
        "               [0, sp.cos(q1), -sp.sin(q1)] ,\n",
        "               [0, sp.sin(q1), sp.cos(q1)]])\n",
        "Ry = sp.Matrix([[sp.cos(q1), 0, sp.sin(q1)],\n",
        "               [0, 1, 0],\n",
        "               [-sp.sin(q1), 0, sp.cos(q1)]])\n",
        "Rz = sp.Matrix([[sp.cos(q1), -sp.sin(q1), 0], \n",
        "               [sp.sin(q1), sp.cos(q1), 0],\n",
        "               [0, 0, 1]])\n",
        "\n",
        "# a, b = sp.symbols('α, β')\n",
        "# Rx.subs(q1, a)@Ry.subs(q1, b)"
      ],
      "metadata": {
        "id": "0iCojRMZcwr0"
      },
      "execution_count": null,
      "outputs": []
    },
    {
      "cell_type": "markdown",
      "source": [
        "## Kinematics"
      ],
      "metadata": {
        "id": "Zd12ysh_07FX"
      }
    },
    {
      "cell_type": "code",
      "source": [
        "def get_lengths(a, b, h, H):\n",
        "    c = np.cos\n",
        "    s = np.sin\n",
        "    r3 = np.sqrt(3)\n",
        "    l1 = ( ((rb*c(b/2) + h*s(b) - 0.5*ra)**2) + \n",
        "            (rb*s(a)*s(b/2) - r3*rb*c(a/2) - h*s(a)*c(b) + r3*ra/2)**2 +\n",
        "            (-rb*c(a)*s(b/2) - r3*ra*s(a/2) + h*c(a)*c(b) + H)**2)\n",
        "\n",
        "    l2 = (\n",
        "            ((rb*c(b/2) + h*s(b) - 0.5*ra)**2) + \n",
        "            (rb*s(a)*s(b/2) + r3*rb*c(a/2) - h*s(a)*c(b) - r3*ra/2)**2 + \n",
        "            (-rb*c(a)*s(b/2) + r3*ra*s(a/2) + h*c(a)*c(b) + H)**2\n",
        "          )\n",
        "    \n",
        "    l3 = (\n",
        "            (-rb*c(b) + h*s(b) + ra)**2 + \n",
        "            (-rb*s(a)*s(b) - h*s(a)*c(b))**2 + \n",
        "            (-rb*c(a)*s(b) + h*c(a)*c(b) + H)**2\n",
        "            )\n",
        "    return l1+0.6, l2+0.6, l3+0.6"
      ],
      "metadata": {
        "id": "5QyR8RAX26us"
      },
      "execution_count": null,
      "outputs": []
    },
    {
      "cell_type": "code",
      "source": [
        "# h has a ax of 0.8 so we set it to a value between  0.6 and 0.8\n",
        "# alpha and beta values values between +-np.pi/6\n",
        "\n",
        "# for i in range\n",
        "l1s = []\n",
        "l2s = []\n",
        "l3s = []\n",
        "\n",
        "lc = 0.6\n",
        "l1, l2, l3 = get_lengths(np.pi/6, np.pi/8, lc, 0)"
      ],
      "metadata": {
        "id": "npFopKWeC1FG"
      },
      "execution_count": null,
      "outputs": []
    },
    {
      "cell_type": "code",
      "source": [
        "def get_rotation_angle(l1=0, l2=0, lc1=0, lc2=0):\n",
        "    \"\"\"\n",
        "    A function that takes in link lengths l1, l2, lc1, lc2, \n",
        "    And calculates the angle l1+l2 makes with the horizontal.\n",
        "    \"\"\"\n",
        "    lc = lc1+lc2\n",
        "    li = l1+l2\n",
        "    theta = np.arcsin(lc/li) # * (180/np.pi) # second part is to convert to degrees\n",
        "    return theta\n",
        "\n",
        "def get_rotation_matrix(theta: float, axis:list):\n",
        "    \"\"\"\n",
        "    A function that thats in an angle q, \n",
        "    And returns a 3x3 rotation matrix \n",
        "    Gotten by taking the rotation of the angle around X, Y or/and Z.\n",
        "    \"\"\"\n",
        "    d = {'x': Rx, 'y': Ry, 'z': Rz}\n",
        "    axis.reverse()\n",
        "    expr = d[axis.pop()]\n",
        "    while len(axis) != 0:\n",
        "        expr = expr@d[axis.pop()]\n",
        "    val = expr.subs(q1, theta)\n",
        "    return val\n",
        "\n",
        "# ang = get_rotation_angle(1, 3, 1, 2)\n",
        "# d = get_rotation_matrix(ang, ['x']).evalf()\n",
        "# d\n",
        "\n",
        "def rotate(R):\n",
        "    M = np.zeros((6, 6))\n",
        "    M[:3, :3] = R\n",
        "    M[3:, 3:] = R\n",
        "    return M"
      ],
      "metadata": {
        "id": "7ksGtLD8JV3W"
      },
      "execution_count": null,
      "outputs": []
    },
    {
      "cell_type": "markdown",
      "source": [
        "## Stiffness Matrix"
      ],
      "metadata": {
        "id": "l8nSx0QprYxS"
      }
    },
    {
      "cell_type": "markdown",
      "source": [
        "Next we get our $K$ matrix"
      ],
      "metadata": {
        "id": "Yrd0-77lxcW2"
      }
    },
    {
      "cell_type": "code",
      "source": [
        "E, S, L, G, J, Iy, Iz = sp.symbols('E, S, L, G, J, Iy, Iz')\n",
        "\n",
        "_K22 = sp.Matrix([\n",
        "               [E*S/L, 0, 0, 0, 0, 0],\n",
        "               [0, 12*E*Iz/(L**3), 0, 0, 0, -6*E*Iz/(L**2)],\n",
        "               [0, 0, 12*E*Iy/(L**3), 0, 6*E*Iy/(L**2), 0],\n",
        "               [0, 0, 0, G*J/L, 0, 0],\n",
        "               [0, 0, 6*E*Iy/(L**2), 0, 4*E*Iy/L, 0],\n",
        "               [0, -6*E*Iz/(L**2), 0, 0, 0, 4*E*Iz/L],\n",
        "])\n",
        "\n",
        "_K11 = sp.Matrix([\n",
        "               [E*S/L, 0, 0, 0, 0, 0],\n",
        "               [0, 12*E*Iz/(L**3), 0, 0, 0, 6*E*Iz/(L**2)],\n",
        "               [0, 0, 12*E*Iy/(L**3), 0, -6*E*Iy/(L**2), 0],\n",
        "               [0, 0, 0, G*J/L, 0, 0],\n",
        "               [0, 0, -6*E*Iy/(L**2), 0, 4*E*Iy/L, 0],\n",
        "               [0, 6*E*Iz/(L**2), 0, 0, 0, 4*E*Iz/L],\n",
        "])\n",
        "\n",
        "_K12 = sp.Matrix([\n",
        "               [-E*S/L, 0, 0, 0, 0, 0],\n",
        "               [0, -12*E*Iz/(L**3), 0, 0, 0, 6*E*Iz/(L**2)],\n",
        "               [0, 0, -12*E*Iy/(L**3), 0, -6*E*Iy/(L**2), 0],\n",
        "               [0, 0, 0, -G*J/L, 0, 0],\n",
        "               [0, 0, 6*E*Iy/(L**2), 0, 2*E*Iy/L, 0],\n",
        "               [0, -6*E*Iz/(L**2), 0, 0, 0, 2*E*Iz/L],\n",
        "])"
      ],
      "metadata": {
        "id": "hnpgPfDVnF2A"
      },
      "execution_count": null,
      "outputs": []
    },
    {
      "cell_type": "code",
      "source": [
        "def get_stiffness(values: tuple):\n",
        "    \"\"\"\n",
        "    Takes in E, S, L, G, J, Iy, Iz\n",
        "    returns K11, K12, K22\n",
        "    K21 = K12'\n",
        "    \"\"\"\n",
        "    k11_lambda = sp.lambdify([E, S, L, G, J, Iy, Iz], _K11, 'numpy')\n",
        "    k12_lambda = sp.lambdify([E, S, L, G, J, Iy, Iz], _K12, 'numpy')\n",
        "    k22_lambda = sp.lambdify([E, S, L, G, J, Iy, Iz], _K22, 'numpy')\n",
        "\n",
        "    return k11_lambda(*values), k12_lambda(*values), k22_lambda(*values)\n"
      ],
      "metadata": {
        "id": "exQwQRFuVl9T"
      },
      "execution_count": null,
      "outputs": []
    },
    {
      "cell_type": "markdown",
      "source": [
        "## Lambdas"
      ],
      "metadata": {
        "id": "sGKOoNCGrg-l"
      }
    },
    {
      "cell_type": "code",
      "source": [
        "# Lambda rigid\n",
        "# Translational\n",
        "I = np.eye(6)\n",
        "l_rx_p = np.delete(I, 0, 0) # delete row 4\n",
        "l_ry_p = np.delete(I, 1, 0)\n",
        "l_rz_p = np.delete(I, 2, 0)\n",
        "# Rotational\n",
        "l_rx_R = np.delete(I, 3, 0) # delete row 4\n",
        "l_ry_R = np.delete(I, 4, 0)\n",
        "l_rz_R = np.delete(I, 5, 0)\n",
        "# Spherical\n",
        "l_p_S = np.delete(I, slice(0,3), 0)\n",
        "l_r_S = np.delete(I, slice(3,6), 0)\n",
        "\n",
        "# Lambda passive and elastic\n",
        "# Translational\n",
        "l_px_P = np.zeros((1,6))\n",
        "l_px_P[0][0] = 1\n",
        "l_py_P = np.zeros((1,6))\n",
        "l_py_P[0][1] = 1\n",
        "l_pz_P = np.zeros((1,6))\n",
        "l_pz_P[0][2] = 1\n",
        "# Rotational\n",
        "l_px_R = np.zeros((1,6))\n",
        "l_px_R[0][3] = 1\n",
        "l_py_R = np.zeros((1,6))\n",
        "l_py_R[0][4] = 1\n",
        "l_pz_R = np.zeros((1,6))\n",
        "l_pz_R[0][5] = 1\n",
        "\n",
        "l_ex_P = l_px_P\n",
        "l_ex_R = l_px_R\n",
        "l_ey_P = l_py_P\n",
        "l_ey_R = l_py_R\n",
        "l_ez_P = l_pz_P\n",
        "l_ez_R = l_pz_R\n",
        "\n",
        "l_rxy_R = np.delete(I, slice(3,5), 0)\n",
        "l_pxy_R = np.zeros((2,6))\n",
        "l_pxy_R[:,3:5] = np.eye(2)"
      ],
      "metadata": {
        "id": "f8-UZkfvuvkY"
      },
      "execution_count": null,
      "outputs": []
    },
    {
      "cell_type": "markdown",
      "source": [
        "## Aggregated Matrix and $K_c$ for External Chain"
      ],
      "metadata": {
        "id": "rIHSBiyMrnSf"
      }
    },
    {
      "cell_type": "code",
      "source": [
        "def calculate_external_stiffness(lu, lb, R):\n",
        "    l = lu # can index them\n",
        "    # Upper Legs\n",
        "    K11, K12, K22 = get_stiffness((Ee1, Se1, l, Ge1, J1, Iy1, Iz1))\n",
        "    M = rotate(R)\n",
        "    K11 = M@K11@M.T\n",
        "    K21 = K12.T\n",
        "\n",
        "    K_links = np.zeros((24, 24))\n",
        "\n",
        "    K_links[0:6,0:6] = K11\n",
        "    K_links[0:6,6:12] = K12\n",
        "    K_links[6:12,0:6] = K21\n",
        "    K_links[6:12,6:12] = K22\n",
        "    # Lower Legs\n",
        "    l = lb # can index them\n",
        "    K11, K12, K22 = get_stiffness((Ee2, Se2, l, Ge1, J2, Iy2, Iz2))\n",
        "    K11 = M@K11@M.T\n",
        "    K21 = K12.T\n",
        "\n",
        "    K_links[0:6,12:18] = K11\n",
        "    K_links[0:6,18:24] = K12\n",
        "    K_links[6:12,12:18] = K21\n",
        "    K_links[6:12,18:24] = K22\n",
        "\n",
        "    # Aggregated Passive Joints\n",
        "    agg_links = np.hstack([np.zeros((24, 6)), -np.eye(24), np.zeros((24, 6)), K_links])\n",
        "\n",
        "    # Aggregated Passive Joints\n",
        "    agg_passive_joints = np.zeros((12, 60))\n",
        "    agg_passive_joints[0:3,30:36] = l_r_S\n",
        "    agg_passive_joints[0:3,36:42] = -l_r_S\n",
        "\n",
        "    agg_passive_joints[3:6,0:6] = l_r_S\n",
        "    agg_passive_joints[3:6,6:12] = l_r_S\n",
        "\n",
        "    agg_passive_joints[6:9,0:6] = l_p_S\n",
        "    agg_passive_joints[9:12,6:12] = l_p_S\n",
        "    agg_links.shape\n",
        "\n",
        "    # Aggregated Active Joints\n",
        "    # Given stiffness of joint K_a\n",
        "    K_a = 1000000\n",
        "    agg_actuated_joints = np.zeros((12, 60))\n",
        "    agg_actuated_joints[0:5,42:48] = l_rz_p\n",
        "    agg_actuated_joints[0:5,42:48] = -l_rz_p\n",
        "    #\n",
        "    agg_actuated_joints[5:11,12:18] = I\n",
        "    agg_actuated_joints[5:11,18:24] = I\n",
        "    #\n",
        "    agg_actuated_joints[11:12,12:18] = l_ez_P\n",
        "    # K_a, we take only the row where there is rotation, z in this case\n",
        "    agg_actuated_joints[11:12,12:18] = K_a*l_ez_P\n",
        "    agg_actuated_joints[11:12,42:48] = -K_a*l_ez_P\n",
        "\n",
        "    # Aggregated Rigid Base\n",
        "    agg_base = np.zeros((6, 60))\n",
        "    agg_base[:,30:36] = I\n",
        "\n",
        "    # External Loading\n",
        "    agg_ext = np.zeros((6, 60))\n",
        "    agg_ext[:,24:30] = I\n",
        "\n",
        "    final_agg = np.vstack([agg_links, agg_passive_joints, agg_actuated_joints, agg_base, agg_ext])\n",
        "\n",
        "    A = final_agg[:54, :54]\n",
        "    B = final_agg[:54, 54:]\n",
        "    C = final_agg[54:, :54]\n",
        "    D = final_agg[54:, 54:]\n",
        "\n",
        "    Kci = D - C@np.linalg.pinv(A)@B\n",
        "    return Kci"
      ],
      "metadata": {
        "id": "PY5RyzOIJiJk"
      },
      "execution_count": null,
      "outputs": []
    },
    {
      "cell_type": "code",
      "source": [
        "lc = 0.6\n",
        "l1, l2, l3= get_lengths(np.pi/6, np.pi/8, lc, 0)\n",
        "\n",
        "a = get_rotation_angle(l1=l1, lc1=lc)\n",
        "R = get_rotation_matrix(a, ['x', 'y'])\n",
        "sp.Matrix(R)\n",
        "# print(a, l1, lc, lc/l1)\n",
        "# print\n",
        "Kc1 = calculate_external_stiffness(l1/2, l1/2, R)\n",
        "a = get_rotation_angle(l1=l2, lc1=lc)\n",
        "R = get_rotation_matrix(a, ['x'])\n",
        "Kc2 = calculate_external_stiffness(l2/2, l2/2, R)\n",
        "a = get_rotation_angle(l1=l3, lc1=lc)\n",
        "R = get_rotation_matrix(a, ['x', 'y'])\n",
        "Kc3 = calculate_external_stiffness(l3/2, l3/2, R)"
      ],
      "metadata": {
        "id": "3cYH36gTp64h"
      },
      "execution_count": null,
      "outputs": []
    },
    {
      "cell_type": "markdown",
      "source": [
        "## Aggregated Matrix and $K_c$ for Central Leg"
      ],
      "metadata": {
        "id": "W38UMswxrxwC"
      }
    },
    {
      "cell_type": "code",
      "source": [
        "l = Lc1[0] # can index them\n",
        "# Upper Legs\n",
        "K11, K12, K22 = get_stiffness((Ec, Sc1, l, Gc, Jc1, Icy1, Icz1))\n",
        "K21 = K12.T\n",
        "\n",
        "K_links = np.zeros((24, 24))\n",
        "\n",
        "K_links[0:6,0:6] = K11\n",
        "K_links[0:6,6:12] = K12\n",
        "K_links[6:12,0:6] = K21\n",
        "K_links[6:12,6:12] = K22\n",
        "\n",
        "l = Lc2[0] # can index them\n",
        "# Upper Legs\n",
        "K11, K12, K22 = get_stiffness((Ec, Sc1, l, Gc, Jc1, Icy1, Icz1))\n",
        "K21 = K12.T\n",
        "\n",
        "K_links[0:6,12:18] = K11\n",
        "K_links[0:6,18:24] = K12\n",
        "K_links[6:12,12:18] = K21\n",
        "K_links[6:12,18:24] = K22\n",
        "\n",
        "# Aggregated Passive Joints\n",
        "agg_links = np.hstack([np.zeros((24, 6)), -np.eye(24), np.zeros((24, 6)), K_links])\n",
        "\n",
        "# Aggregated Rigid Joints\n",
        "agg_rigid_joints = np.zeros((12, 60))\n",
        "agg_rigid_joints[0:6,30:36] = I\n",
        "agg_rigid_joints[0:6,36:42] = -I\n",
        "\n",
        "agg_rigid_joints[6: ,0:6] = I\n",
        "agg_rigid_joints[6: ,6:12] = I\n",
        "\n",
        "agg_links.shape\n",
        "\n",
        "# Aggregated Active Joints\n",
        "# Given stiffness of joint K_a\n",
        "K_a = 1000000\n",
        "agg_actuated_joints = np.zeros((12, 60))\n",
        "agg_actuated_joints[0:5,42:48] = l_rz_p\n",
        "agg_actuated_joints[0:5,42:48] = -l_rz_p\n",
        "#\n",
        "agg_actuated_joints[5:11,12:18] = I\n",
        "agg_actuated_joints[5:11,18:24] = I\n",
        "#\n",
        "agg_actuated_joints[11:12,12:18] = l_ez_P\n",
        "# K_a, taking only the row where there is rotation, z in this case\n",
        "agg_actuated_joints[11:12,12:18] = K_a*l_ez_P\n",
        "agg_actuated_joints[11:12,42:48] = -K_a*l_ez_P\n",
        "\n",
        "# Aggregated Rigid Base\n",
        "agg_base = np.zeros((6, 60))\n",
        "agg_base[:,30:36] = I\n",
        "\n",
        "# External Loading\n",
        "agg_ext = np.zeros((6, 60))\n",
        "agg_ext[:,24:30] = I\n",
        "\n",
        "final_agg = np.vstack([agg_links, agg_rigid_joints, agg_actuated_joints, agg_base, agg_ext])\n",
        "\n",
        "A = final_agg[:54, :54]\n",
        "B = final_agg[:54, 54:]\n",
        "C = final_agg[54:, :54]\n",
        "D = final_agg[54:, 54:]\n",
        "\n",
        "Kcc = D - C@np.linalg.pinv(A)@B"
      ],
      "metadata": {
        "id": "rurcXvVXr-lf"
      },
      "execution_count": null,
      "outputs": []
    },
    {
      "cell_type": "markdown",
      "source": [
        "## Mobile Platform and Manipulator Stiffness"
      ],
      "metadata": {
        "id": "vvRM9bs4u7JV"
      }
    },
    {
      "cell_type": "code",
      "source": [
        "def skew(x):\n",
        "    a = np.zeros((3, 3))\n",
        "    a[0][1] = -x[2]\n",
        "    a[0][2] =  x[1]\n",
        "    a[1][2] = -x[0]\n",
        "\n",
        "    a[1][0] =  x[2]\n",
        "    a[2][0] = -x[1]\n",
        "    a[2][1] =  x[0]\n",
        "    return a\n",
        "\n",
        "def get_block_matrix(d):\n",
        "    D = np.eye(6)\n",
        "    D[3:, :3] = np.zeros((3,3))\n",
        "    D[:3, 3:] = d.T\n",
        "    return D"
      ],
      "metadata": {
        "id": "9Ip4QPwqwDQG"
      },
      "execution_count": null,
      "outputs": []
    },
    {
      "cell_type": "code",
      "source": [
        "# Given radius of platform\n",
        "r = rb\n",
        "sqr = (r**2+r**2) - (2*r*r*np.cos(120))\n",
        "c = np.sqrt(sqr)\n",
        "x = c/2\n",
        "h = c**2 - x**2\n",
        "y = h - r\n",
        "D1 = get_block_matrix(skew([x, y, 0]))\n",
        "D2 = D1\n",
        "D3 = get_block_matrix(skew([0, r, 0]))\n",
        "Dc = get_block_matrix(np.zeros((3, 3)))"
      ],
      "metadata": {
        "id": "83Ljrp5Vvxkd"
      },
      "execution_count": null,
      "outputs": []
    },
    {
      "cell_type": "code",
      "source": [
        "# Platform\n",
        "agg_p = np.zeros((30, 60))\n",
        "#\n",
        "agg_p[:6, 30:36] = -I\n",
        "agg_p[:6, 54:] = D1\n",
        "#\n",
        "agg_p[6:12, 36:42] = -I\n",
        "agg_p[6:12, 54:] = D2\n",
        "#\n",
        "agg_p[12:18, 42:48] = -I\n",
        "agg_p[12:18, 54:] = D3\n",
        "#\n",
        "agg_p[18:24, 48:54] = -I\n",
        "agg_p[18:24, 54:] = Dc\n",
        "################## new arrangement##########\n",
        "agg_p[24:30, :6] = D1.T\n",
        "agg_p[24:30, 6:12] = D2.T\n",
        "agg_p[24:30, 12:18] = D3.T\n",
        "agg_p[24:30, 18:24] = Dc.T\n",
        "agg_p[24:30, 24:30] = I\n",
        "\n",
        "# Joints\n",
        "agg_j = np.zeros((26, 60))\n",
        "agg_j[:2, :6] = l_pxy_R\n",
        "agg_j[2:4, 6:12] = l_pxy_R\n",
        "agg_j[4:6, 12:18] = l_pxy_R\n",
        "agg_j[6:8, 18:24] = l_pxy_R\n",
        "#\n",
        "agg_j[8:12, :6] = -l_rxy_R\n",
        "agg_j[8:12, 30:36] = l_rxy_R@Kc1 # 1\n",
        "agg_j[12:16, 6:12] = -l_rxy_R\n",
        "agg_j[12:16, 36:42] = l_rxy_R@Kc2 # 2\n",
        "agg_j[16:20, 12:18] = -l_rxy_R\n",
        "agg_j[16:20, 42:48] = l_rxy_R@Kc3 # 3\n",
        "agg_j[20:24, 18:24] = -l_rxy_R\n",
        "agg_j[20:24, 48:54] = l_rxy_R@Kcc # central\n",
        "\n",
        "agg = np.vstack([agg_j, agg_p])\n",
        "\n",
        "D = agg[50:,54:]\n",
        "C = agg[50:,:54]\n",
        "\n",
        "A = agg[:50,:54]\n",
        "B = agg[:50,54:]\n",
        "\n",
        "# print(A.shape, B.shape, C.shape, D.shape)\n",
        "\n",
        "Kc = D - C@np.linalg.pinv(A)@B\n",
        "# print(np.linalg.matrix_rank(Kc))\n",
        "sp.Matrix(Kc)"
      ],
      "metadata": {
        "id": "IwnZAEYivWY7",
        "colab": {
          "base_uri": "https://localhost:8080/",
          "height": 159
        },
        "outputId": "8555743c-41ef-41c5-f850-6b350f8990bd"
      },
      "execution_count": null,
      "outputs": [
        {
          "output_type": "execute_result",
          "data": {
            "text/plain": [
              "Matrix([\n",
              "[ 1.25961413809776e-8, -2.14497422561961e-5,  2.23882032625721e-5, -9.71868740676861e-6,  3.34299192399017e-6,  2.60896260426523e-6],\n",
              "[-4.28306311856035e-8,  9.23202804438162e-7,  4.01573439913559e-6, -4.24702130161175e-6,  1.58577440276711e-6, -1.37433135221706e-6],\n",
              "[ 2.50117672793353e-8,  1.18936873176082e-5,  1.56892553061422e-5,  7.96383103497999e-6,  4.78737206306364e-6, -5.73095070208872e-7],\n",
              "[ 4.21387689426397e-9, -1.96660589562193e-6, -8.71607197310267e-7,  5.44554883238524e-7, -1.02596216549551e-7,  2.73466944208943e-7],\n",
              "[3.67284395851579e-10, -5.10740776479745e-7,  -2.5699442880567e-7, -5.06498010757486e-8, -4.32727710290389e-8,  6.67279720800721e-8],\n",
              "[ 1.21164469085484e-7, -6.53756902736765e-5,  1.58497605209353e-5,  1.81512383317742e-5,   6.0297683936447e-6,  9.43840915269246e-6]])"
            ],
            "text/latex": "$\\displaystyle \\left[\\begin{matrix}1.25961413809776 \\cdot 10^{-8} & -2.14497422561961 \\cdot 10^{-5} & 2.23882032625721 \\cdot 10^{-5} & -9.71868740676861 \\cdot 10^{-6} & 3.34299192399017 \\cdot 10^{-6} & 2.60896260426523 \\cdot 10^{-6}\\\\-4.28306311856035 \\cdot 10^{-8} & 9.23202804438162 \\cdot 10^{-7} & 4.01573439913559 \\cdot 10^{-6} & -4.24702130161175 \\cdot 10^{-6} & 1.58577440276711 \\cdot 10^{-6} & -1.37433135221706 \\cdot 10^{-6}\\\\2.50117672793353 \\cdot 10^{-8} & 1.18936873176082 \\cdot 10^{-5} & 1.56892553061422 \\cdot 10^{-5} & 7.96383103497999 \\cdot 10^{-6} & 4.78737206306364 \\cdot 10^{-6} & -5.73095070208872 \\cdot 10^{-7}\\\\4.21387689426397 \\cdot 10^{-9} & -1.96660589562193 \\cdot 10^{-6} & -8.71607197310267 \\cdot 10^{-7} & 5.44554883238524 \\cdot 10^{-7} & -1.02596216549551 \\cdot 10^{-7} & 2.73466944208943 \\cdot 10^{-7}\\\\3.67284395851579 \\cdot 10^{-10} & -5.10740776479745 \\cdot 10^{-7} & -2.5699442880567 \\cdot 10^{-7} & -5.06498010757486 \\cdot 10^{-8} & -4.32727710290389 \\cdot 10^{-8} & 6.67279720800721 \\cdot 10^{-8}\\\\1.21164469085484 \\cdot 10^{-7} & -6.53756902736765 \\cdot 10^{-5} & 1.58497605209353 \\cdot 10^{-5} & 1.81512383317742 \\cdot 10^{-5} & 6.0297683936447 \\cdot 10^{-6} & 9.43840915269246 \\cdot 10^{-6}\\end{matrix}\\right]$"
          },
          "metadata": {},
          "execution_count": 88
        }
      ]
    },
    {
      "cell_type": "markdown",
      "source": [
        "## Deflections"
      ],
      "metadata": {
        "id": "_7vNeLe0hyLG"
      }
    },
    {
      "cell_type": "markdown",
      "source": [
        "To calculate the deflection at the end-effector, we use Hooke's Law. \n",
        "\\begin{equation}\n",
        "W = K_cΔt\n",
        "\\end{equation}\n",
        "From which deflections can be gotten as\n",
        "\\begin{equation}\n",
        "Δt = K_c^{-1}W\n",
        "\\end{equation}"
      ],
      "metadata": {
        "id": "GvFn4yeCkp1E"
      }
    },
    {
      "cell_type": "code",
      "source": [
        "# We apply a force of 1000N along the Z axis and calculate the deflection\n",
        "W = np.array([[0, 1000, 0, 0, 0, 0]]).T\n",
        "dt = np.linalg.inv(Kc)@W\n",
        "sp.Matrix(dt)"
      ],
      "metadata": {
        "colab": {
          "base_uri": "https://localhost:8080/",
          "height": 139
        },
        "id": "LVqMEY-ch11a",
        "outputId": "80b6a678-7868-4520-a51b-5116ef7d1a0f"
      },
      "execution_count": null,
      "outputs": [
        {
          "output_type": "execute_result",
          "data": {
            "text/plain": [
              "Matrix([\n",
              "[ 6635076185.47547],\n",
              "[-80800821.3641135],\n",
              "[-61501877.2332501],\n",
              "[ -28363886.482242],\n",
              "[ 331184582.112723],\n",
              "[ -698600948.99881]])"
            ],
            "text/latex": "$\\displaystyle \\left[\\begin{matrix}6635076185.47547\\\\-80800821.3641135\\\\-61501877.2332501\\\\-28363886.482242\\\\331184582.112723\\\\-698600948.99881\\end{matrix}\\right]$"
          },
          "metadata": {},
          "execution_count": 89
        }
      ]
    },
    {
      "cell_type": "markdown",
      "source": [
        "# Appendix"
      ],
      "metadata": {
        "id": "N1wPHrHb1MdG"
      }
    },
    {
      "cell_type": "markdown",
      "source": [
        "Code Stubs"
      ],
      "metadata": {
        "id": "kDFGX5tX1Oue"
      }
    },
    {
      "cell_type": "code",
      "source": [
        "for i in ('x', 'y', 'z'):\n",
        "    print(f'l_e{i}_P = l_p{i}_P')\n",
        "    print(f'l_e{i}_R = l_p{i}_R')"
      ],
      "metadata": {
        "id": "h4B83yQ_1Ri0",
        "colab": {
          "base_uri": "https://localhost:8080/"
        },
        "outputId": "67dea8ce-9d19-46c4-ee22-97cbfe01d22f"
      },
      "execution_count": null,
      "outputs": [
        {
          "output_type": "stream",
          "name": "stdout",
          "text": [
            "l_ex_P = l_px_P\n",
            "l_ex_R = l_px_R\n",
            "l_ey_P = l_py_P\n",
            "l_ey_R = l_py_R\n",
            "l_ez_P = l_pz_P\n",
            "l_ez_R = l_pz_R\n"
          ]
        }
      ]
    },
    {
      "cell_type": "code",
      "source": [
        "e = np.zeros((6, 6))\n",
        "e[1:3,0:3] = 9\n",
        "e = np.arange(36).reshape((6, 6))\n",
        "print(e)\n",
        "print(e[:5, :5])\n",
        "print(e[:5, 5:])"
      ],
      "metadata": {
        "id": "kuvmtrlP2kc9",
        "colab": {
          "base_uri": "https://localhost:8080/"
        },
        "outputId": "4186df69-fcb2-443d-d0e9-8b7b335b8421"
      },
      "execution_count": null,
      "outputs": [
        {
          "output_type": "stream",
          "name": "stdout",
          "text": [
            "[[ 0  1  2  3  4  5]\n",
            " [ 6  7  8  9 10 11]\n",
            " [12 13 14 15 16 17]\n",
            " [18 19 20 21 22 23]\n",
            " [24 25 26 27 28 29]\n",
            " [30 31 32 33 34 35]]\n",
            "[[ 0  1  2  3  4]\n",
            " [ 6  7  8  9 10]\n",
            " [12 13 14 15 16]\n",
            " [18 19 20 21 22]\n",
            " [24 25 26 27 28]]\n",
            "[[ 5]\n",
            " [11]\n",
            " [17]\n",
            " [23]\n",
            " [29]]\n"
          ]
        }
      ]
    },
    {
      "cell_type": "markdown",
      "source": [
        "# References"
      ],
      "metadata": {
        "id": "4QbyaSVbxKuJ"
      }
    },
    {
      "cell_type": "markdown",
      "source": [
        "\n",
        "\n",
        "\n",
        "1.  [Delete From an Array](https://note.nkmk.me/en/python-numpy-delete/)\n",
        "2.   [Lamdify](https://docs.sympy.org/latest/modules/utilities/lambdify.html)\n",
        "3. [Height of Isosceles Triangle](https://study.com/skill/learn/how-to-inscribe-an-equilateral-triangle-in-a-circle-explanation.html)\n",
        "\n",
        "\n"
      ],
      "metadata": {
        "id": "eu7ZaSGTxMxX"
      }
    },
    {
      "cell_type": "code",
      "source": [
        ""
      ],
      "metadata": {
        "id": "6533067QxMMx"
      },
      "execution_count": null,
      "outputs": []
    }
  ]
}